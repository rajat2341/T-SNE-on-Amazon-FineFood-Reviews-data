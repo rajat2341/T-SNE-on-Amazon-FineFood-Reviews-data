{
 "cells": [
  {
   "cell_type": "markdown",
   "metadata": {},
   "source": [
    "## Importing Libraries "
   ]
  },
  {
   "cell_type": "code",
   "execution_count": 1,
   "metadata": {},
   "outputs": [
    {
     "name": "stderr",
     "output_type": "stream",
     "text": [
      "unable to import 'smart_open.gcs', disabling that module\n"
     ]
    }
   ],
   "source": [
    "%matplotlib inline\n",
    "import warnings\n",
    "warnings.filterwarnings(\"ignore\")\n",
    "\n",
    "import sqlite3\n",
    "import pandas as pd\n",
    "import numpy as np\n",
    "import nltk\n",
    "import string\n",
    "import matplotlib.pyplot as plt\n",
    "import seaborn as sns\n",
    "from sklearn.feature_extraction.text import TfidfTransformer\n",
    "from sklearn.feature_extraction.text import TfidfVectorizer\n",
    "\n",
    "from sklearn.feature_extraction.text import CountVectorizer\n",
    "\n",
    "\n",
    "from nltk.stem.porter import PorterStemmer\n",
    "\n",
    "import re\n",
    "\n",
    "# Tutorial about Python regular expressions: https://pymotw.com/2/re/\n",
    "import string\n",
    "\n",
    "from nltk.corpus import stopwords\n",
    "from nltk.stem import PorterStemmer\n",
    "from nltk.stem.wordnet import WordNetLemmatizer\n",
    "\n",
    "from gensim.models import Word2Vec\n",
    "from gensim.models import KeyedVectors\n",
    "import pickle"
   ]
  },
  {
   "cell_type": "markdown",
   "metadata": {},
   "source": [
    "## Loading Data "
   ]
  },
  {
   "cell_type": "code",
   "execution_count": 2,
   "metadata": {},
   "outputs": [],
   "source": [
    "con = sqlite3.connect('C:/Users/rajat/Downloads/data science/t-sne visualisation of amazon fine food reviews dataset/data/database.sqlite')"
   ]
  },
  {
   "cell_type": "code",
   "execution_count": 3,
   "metadata": {},
   "outputs": [
    {
     "data": {
      "text/plain": [
       "(568454, 10)"
      ]
     },
     "execution_count": 3,
     "metadata": {},
     "output_type": "execute_result"
    }
   ],
   "source": [
    "filtered_data = pd.read_sql_query(\"\"\" SELECT * FROM Reviews \"\"\", con)\n",
    "filtered_data.shape"
   ]
  },
  {
   "cell_type": "code",
   "execution_count": 4,
   "metadata": {},
   "outputs": [],
   "source": [
    "# filtering only positive and negative reviews i.e. \n",
    "# not taking into consideration those reviews with Score = 3\n",
    "filtered_data = pd.read_sql_query(\"\"\" SELECT * FROM Reviews WHERE Score != 3 \"\"\", con) \n",
    "\n",
    "\n",
    "# Give reviews with Score > 3 a positive rating, and reviews with a score < 3 a negative rating.\n",
    "def partition(x):\n",
    "    if x < 3:\n",
    "        return 'negative'\n",
    "    return 'positive'\n",
    "\n",
    "#changing reviews with score less than 3 to be positive and vice-versa\n",
    "actualScore = filtered_data['Score']\n",
    "positiveNegative = actualScore.map(partition) \n",
    "filtered_data['Score'] = positiveNegative"
   ]
  },
  {
   "cell_type": "code",
   "execution_count": 5,
   "metadata": {},
   "outputs": [
    {
     "data": {
      "text/html": [
       "<div>\n",
       "<style scoped>\n",
       "    .dataframe tbody tr th:only-of-type {\n",
       "        vertical-align: middle;\n",
       "    }\n",
       "\n",
       "    .dataframe tbody tr th {\n",
       "        vertical-align: top;\n",
       "    }\n",
       "\n",
       "    .dataframe thead th {\n",
       "        text-align: right;\n",
       "    }\n",
       "</style>\n",
       "<table border=\"1\" class=\"dataframe\">\n",
       "  <thead>\n",
       "    <tr style=\"text-align: right;\">\n",
       "      <th></th>\n",
       "      <th>Id</th>\n",
       "      <th>ProductId</th>\n",
       "      <th>UserId</th>\n",
       "      <th>ProfileName</th>\n",
       "      <th>HelpfulnessNumerator</th>\n",
       "      <th>HelpfulnessDenominator</th>\n",
       "      <th>Score</th>\n",
       "      <th>Time</th>\n",
       "      <th>Summary</th>\n",
       "      <th>Text</th>\n",
       "    </tr>\n",
       "  </thead>\n",
       "  <tbody>\n",
       "    <tr>\n",
       "      <th>0</th>\n",
       "      <td>1</td>\n",
       "      <td>B001E4KFG0</td>\n",
       "      <td>A3SGXH7AUHU8GW</td>\n",
       "      <td>delmartian</td>\n",
       "      <td>1</td>\n",
       "      <td>1</td>\n",
       "      <td>positive</td>\n",
       "      <td>1303862400</td>\n",
       "      <td>Good Quality Dog Food</td>\n",
       "      <td>I have bought several of the Vitality canned d...</td>\n",
       "    </tr>\n",
       "    <tr>\n",
       "      <th>1</th>\n",
       "      <td>2</td>\n",
       "      <td>B00813GRG4</td>\n",
       "      <td>A1D87F6ZCVE5NK</td>\n",
       "      <td>dll pa</td>\n",
       "      <td>0</td>\n",
       "      <td>0</td>\n",
       "      <td>negative</td>\n",
       "      <td>1346976000</td>\n",
       "      <td>Not as Advertised</td>\n",
       "      <td>Product arrived labeled as Jumbo Salted Peanut...</td>\n",
       "    </tr>\n",
       "    <tr>\n",
       "      <th>2</th>\n",
       "      <td>3</td>\n",
       "      <td>B000LQOCH0</td>\n",
       "      <td>ABXLMWJIXXAIN</td>\n",
       "      <td>Natalia Corres \"Natalia Corres\"</td>\n",
       "      <td>1</td>\n",
       "      <td>1</td>\n",
       "      <td>positive</td>\n",
       "      <td>1219017600</td>\n",
       "      <td>\"Delight\" says it all</td>\n",
       "      <td>This is a confection that has been around a fe...</td>\n",
       "    </tr>\n",
       "    <tr>\n",
       "      <th>3</th>\n",
       "      <td>4</td>\n",
       "      <td>B000UA0QIQ</td>\n",
       "      <td>A395BORC6FGVXV</td>\n",
       "      <td>Karl</td>\n",
       "      <td>3</td>\n",
       "      <td>3</td>\n",
       "      <td>negative</td>\n",
       "      <td>1307923200</td>\n",
       "      <td>Cough Medicine</td>\n",
       "      <td>If you are looking for the secret ingredient i...</td>\n",
       "    </tr>\n",
       "    <tr>\n",
       "      <th>4</th>\n",
       "      <td>5</td>\n",
       "      <td>B006K2ZZ7K</td>\n",
       "      <td>A1UQRSCLF8GW1T</td>\n",
       "      <td>Michael D. Bigham \"M. Wassir\"</td>\n",
       "      <td>0</td>\n",
       "      <td>0</td>\n",
       "      <td>positive</td>\n",
       "      <td>1350777600</td>\n",
       "      <td>Great taffy</td>\n",
       "      <td>Great taffy at a great price.  There was a wid...</td>\n",
       "    </tr>\n",
       "  </tbody>\n",
       "</table>\n",
       "</div>"
      ],
      "text/plain": [
       "   Id   ProductId          UserId                      ProfileName  \\\n",
       "0   1  B001E4KFG0  A3SGXH7AUHU8GW                       delmartian   \n",
       "1   2  B00813GRG4  A1D87F6ZCVE5NK                           dll pa   \n",
       "2   3  B000LQOCH0   ABXLMWJIXXAIN  Natalia Corres \"Natalia Corres\"   \n",
       "3   4  B000UA0QIQ  A395BORC6FGVXV                             Karl   \n",
       "4   5  B006K2ZZ7K  A1UQRSCLF8GW1T    Michael D. Bigham \"M. Wassir\"   \n",
       "\n",
       "   HelpfulnessNumerator  HelpfulnessDenominator     Score        Time  \\\n",
       "0                     1                       1  positive  1303862400   \n",
       "1                     0                       0  negative  1346976000   \n",
       "2                     1                       1  positive  1219017600   \n",
       "3                     3                       3  negative  1307923200   \n",
       "4                     0                       0  positive  1350777600   \n",
       "\n",
       "                 Summary                                               Text  \n",
       "0  Good Quality Dog Food  I have bought several of the Vitality canned d...  \n",
       "1      Not as Advertised  Product arrived labeled as Jumbo Salted Peanut...  \n",
       "2  \"Delight\" says it all  This is a confection that has been around a fe...  \n",
       "3         Cough Medicine  If you are looking for the secret ingredient i...  \n",
       "4            Great taffy  Great taffy at a great price.  There was a wid...  "
      ]
     },
     "execution_count": 5,
     "metadata": {},
     "output_type": "execute_result"
    }
   ],
   "source": [
    "filtered_data.head()"
   ]
  },
  {
   "cell_type": "markdown",
   "metadata": {},
   "source": [
    "## Removing duplicates"
   ]
  },
  {
   "cell_type": "code",
   "execution_count": 6,
   "metadata": {},
   "outputs": [],
   "source": [
    "data = filtered_data.drop_duplicates(subset = {\"UserId\", \"ProfileName\", \"Time\", \"Text\"}, keep = \"first\", inplace = False)"
   ]
  },
  {
   "cell_type": "code",
   "execution_count": 7,
   "metadata": {},
   "outputs": [],
   "source": [
    "data = data[data.HelpfulnessNumerator <= data.HelpfulnessDenominator]"
   ]
  },
  {
   "cell_type": "markdown",
   "metadata": {},
   "source": [
    "## Making subset for data visualisation"
   ]
  },
  {
   "cell_type": "code",
   "execution_count": 9,
   "metadata": {},
   "outputs": [
    {
     "data": {
      "text/html": [
       "<div>\n",
       "<style scoped>\n",
       "    .dataframe tbody tr th:only-of-type {\n",
       "        vertical-align: middle;\n",
       "    }\n",
       "\n",
       "    .dataframe tbody tr th {\n",
       "        vertical-align: top;\n",
       "    }\n",
       "\n",
       "    .dataframe thead th {\n",
       "        text-align: right;\n",
       "    }\n",
       "</style>\n",
       "<table border=\"1\" class=\"dataframe\">\n",
       "  <thead>\n",
       "    <tr style=\"text-align: right;\">\n",
       "      <th></th>\n",
       "      <th>Id</th>\n",
       "      <th>ProductId</th>\n",
       "      <th>UserId</th>\n",
       "      <th>ProfileName</th>\n",
       "      <th>HelpfulnessNumerator</th>\n",
       "      <th>HelpfulnessDenominator</th>\n",
       "      <th>Score</th>\n",
       "      <th>Time</th>\n",
       "      <th>Summary</th>\n",
       "      <th>Text</th>\n",
       "    </tr>\n",
       "  </thead>\n",
       "  <tbody>\n",
       "    <tr>\n",
       "      <th>1</th>\n",
       "      <td>2</td>\n",
       "      <td>B00813GRG4</td>\n",
       "      <td>A1D87F6ZCVE5NK</td>\n",
       "      <td>dll pa</td>\n",
       "      <td>0</td>\n",
       "      <td>0</td>\n",
       "      <td>negative</td>\n",
       "      <td>1346976000</td>\n",
       "      <td>Not as Advertised</td>\n",
       "      <td>Product arrived labeled as Jumbo Salted Peanut...</td>\n",
       "    </tr>\n",
       "    <tr>\n",
       "      <th>3</th>\n",
       "      <td>4</td>\n",
       "      <td>B000UA0QIQ</td>\n",
       "      <td>A395BORC6FGVXV</td>\n",
       "      <td>Karl</td>\n",
       "      <td>3</td>\n",
       "      <td>3</td>\n",
       "      <td>negative</td>\n",
       "      <td>1307923200</td>\n",
       "      <td>Cough Medicine</td>\n",
       "      <td>If you are looking for the secret ingredient i...</td>\n",
       "    </tr>\n",
       "    <tr>\n",
       "      <th>12</th>\n",
       "      <td>13</td>\n",
       "      <td>B0009XLVG0</td>\n",
       "      <td>A327PCT23YH90</td>\n",
       "      <td>LT</td>\n",
       "      <td>1</td>\n",
       "      <td>1</td>\n",
       "      <td>negative</td>\n",
       "      <td>1339545600</td>\n",
       "      <td>My Cats Are Not Fans of the New Food</td>\n",
       "      <td>My cats have been happily eating Felidae Plati...</td>\n",
       "    </tr>\n",
       "    <tr>\n",
       "      <th>16</th>\n",
       "      <td>17</td>\n",
       "      <td>B001GVISJM</td>\n",
       "      <td>A3KLWF6WQ5BNYO</td>\n",
       "      <td>Erica Neathery</td>\n",
       "      <td>0</td>\n",
       "      <td>0</td>\n",
       "      <td>negative</td>\n",
       "      <td>1348099200</td>\n",
       "      <td>poor taste</td>\n",
       "      <td>I love eating them and they are good for watch...</td>\n",
       "    </tr>\n",
       "    <tr>\n",
       "      <th>26</th>\n",
       "      <td>27</td>\n",
       "      <td>B001GVISJM</td>\n",
       "      <td>A3RXAU2N8KV45G</td>\n",
       "      <td>lady21</td>\n",
       "      <td>0</td>\n",
       "      <td>1</td>\n",
       "      <td>negative</td>\n",
       "      <td>1332633600</td>\n",
       "      <td>Nasty No flavor</td>\n",
       "      <td>The candy is just red , No flavor . Just  plan...</td>\n",
       "    </tr>\n",
       "  </tbody>\n",
       "</table>\n",
       "</div>"
      ],
      "text/plain": [
       "    Id   ProductId          UserId     ProfileName  HelpfulnessNumerator  \\\n",
       "1    2  B00813GRG4  A1D87F6ZCVE5NK          dll pa                     0   \n",
       "3    4  B000UA0QIQ  A395BORC6FGVXV            Karl                     3   \n",
       "12  13  B0009XLVG0   A327PCT23YH90              LT                     1   \n",
       "16  17  B001GVISJM  A3KLWF6WQ5BNYO  Erica Neathery                     0   \n",
       "26  27  B001GVISJM  A3RXAU2N8KV45G          lady21                     0   \n",
       "\n",
       "    HelpfulnessDenominator     Score        Time  \\\n",
       "1                        0  negative  1346976000   \n",
       "3                        3  negative  1307923200   \n",
       "12                       1  negative  1339545600   \n",
       "16                       0  negative  1348099200   \n",
       "26                       1  negative  1332633600   \n",
       "\n",
       "                                 Summary  \\\n",
       "1                      Not as Advertised   \n",
       "3                         Cough Medicine   \n",
       "12  My Cats Are Not Fans of the New Food   \n",
       "16                            poor taste   \n",
       "26                       Nasty No flavor   \n",
       "\n",
       "                                                 Text  \n",
       "1   Product arrived labeled as Jumbo Salted Peanut...  \n",
       "3   If you are looking for the secret ingredient i...  \n",
       "12  My cats have been happily eating Felidae Plati...  \n",
       "16  I love eating them and they are good for watch...  \n",
       "26  The candy is just red , No flavor . Just  plan...  "
      ]
     },
     "execution_count": 9,
     "metadata": {},
     "output_type": "execute_result"
    }
   ],
   "source": [
    "pos_data = data[data['Score'] == 'positive'][:2000]\n",
    "neg_data = data[data['Score'] == 'negative'][:2000]\n",
    "neg_data.head()"
   ]
  },
  {
   "cell_type": "code",
   "execution_count": 11,
   "metadata": {},
   "outputs": [],
   "source": [
    "final = pd.concat([pos_data, neg_data], ignore_index = True)"
   ]
  },
  {
   "cell_type": "code",
   "execution_count": 13,
   "metadata": {},
   "outputs": [],
   "source": [
    "final = final.sample(frac = 1).reset_index(drop = True)"
   ]
  },
  {
   "cell_type": "code",
   "execution_count": 14,
   "metadata": {},
   "outputs": [
    {
     "data": {
      "text/html": [
       "<div>\n",
       "<style scoped>\n",
       "    .dataframe tbody tr th:only-of-type {\n",
       "        vertical-align: middle;\n",
       "    }\n",
       "\n",
       "    .dataframe tbody tr th {\n",
       "        vertical-align: top;\n",
       "    }\n",
       "\n",
       "    .dataframe thead th {\n",
       "        text-align: right;\n",
       "    }\n",
       "</style>\n",
       "<table border=\"1\" class=\"dataframe\">\n",
       "  <thead>\n",
       "    <tr style=\"text-align: right;\">\n",
       "      <th></th>\n",
       "      <th>Id</th>\n",
       "      <th>ProductId</th>\n",
       "      <th>UserId</th>\n",
       "      <th>ProfileName</th>\n",
       "      <th>HelpfulnessNumerator</th>\n",
       "      <th>HelpfulnessDenominator</th>\n",
       "      <th>Score</th>\n",
       "      <th>Time</th>\n",
       "      <th>Summary</th>\n",
       "      <th>Text</th>\n",
       "    </tr>\n",
       "  </thead>\n",
       "  <tbody>\n",
       "    <tr>\n",
       "      <th>0</th>\n",
       "      <td>532</td>\n",
       "      <td>B000G6RYNE</td>\n",
       "      <td>A15U6JW86FB9OV</td>\n",
       "      <td>P. Bangera</td>\n",
       "      <td>3</td>\n",
       "      <td>3</td>\n",
       "      <td>positive</td>\n",
       "      <td>1214611200</td>\n",
       "      <td>Best Chips out there!!!</td>\n",
       "      <td>I have tried Herrs, UTZ, wise, pringles, lays ...</td>\n",
       "    </tr>\n",
       "    <tr>\n",
       "      <th>1</th>\n",
       "      <td>2392</td>\n",
       "      <td>B0089SPDUW</td>\n",
       "      <td>A1ACXZOUVYS3T5</td>\n",
       "      <td>Brian Dumont</td>\n",
       "      <td>2</td>\n",
       "      <td>2</td>\n",
       "      <td>positive</td>\n",
       "      <td>1342569600</td>\n",
       "      <td>Good Bold Coffee</td>\n",
       "      <td>I've been drinking Green Mountain's Dark Magic...</td>\n",
       "    </tr>\n",
       "    <tr>\n",
       "      <th>2</th>\n",
       "      <td>60</td>\n",
       "      <td>B004N5KULM</td>\n",
       "      <td>A2QOGOXPOVKAJG</td>\n",
       "      <td>mimimc</td>\n",
       "      <td>0</td>\n",
       "      <td>0</td>\n",
       "      <td>positive</td>\n",
       "      <td>1320105600</td>\n",
       "      <td>great deal.</td>\n",
       "      <td>Halloween is over but, I sent a bag to my daug...</td>\n",
       "    </tr>\n",
       "    <tr>\n",
       "      <th>3</th>\n",
       "      <td>3957</td>\n",
       "      <td>B005HO0ARM</td>\n",
       "      <td>A113HJFCRWR0SQ</td>\n",
       "      <td>J. A., Church \"Keturah Joan\"</td>\n",
       "      <td>8</td>\n",
       "      <td>11</td>\n",
       "      <td>negative</td>\n",
       "      <td>1324771200</td>\n",
       "      <td>Great product...lousey bottle design</td>\n",
       "      <td>I love the product.  But, the bottle design is...</td>\n",
       "    </tr>\n",
       "    <tr>\n",
       "      <th>4</th>\n",
       "      <td>11</td>\n",
       "      <td>B0001PB9FE</td>\n",
       "      <td>A3HDKO7OW0QNK4</td>\n",
       "      <td>Canadian Fan</td>\n",
       "      <td>1</td>\n",
       "      <td>1</td>\n",
       "      <td>positive</td>\n",
       "      <td>1107820800</td>\n",
       "      <td>The Best Hot Sauce in the World</td>\n",
       "      <td>I don't know if it's the cactus or the tequila...</td>\n",
       "    </tr>\n",
       "  </tbody>\n",
       "</table>\n",
       "</div>"
      ],
      "text/plain": [
       "     Id   ProductId          UserId                   ProfileName  \\\n",
       "0   532  B000G6RYNE  A15U6JW86FB9OV                    P. Bangera   \n",
       "1  2392  B0089SPDUW  A1ACXZOUVYS3T5                  Brian Dumont   \n",
       "2    60  B004N5KULM  A2QOGOXPOVKAJG                        mimimc   \n",
       "3  3957  B005HO0ARM  A113HJFCRWR0SQ  J. A., Church \"Keturah Joan\"   \n",
       "4    11  B0001PB9FE  A3HDKO7OW0QNK4                  Canadian Fan   \n",
       "\n",
       "   HelpfulnessNumerator  HelpfulnessDenominator     Score        Time  \\\n",
       "0                     3                       3  positive  1214611200   \n",
       "1                     2                       2  positive  1342569600   \n",
       "2                     0                       0  positive  1320105600   \n",
       "3                     8                      11  negative  1324771200   \n",
       "4                     1                       1  positive  1107820800   \n",
       "\n",
       "                                Summary  \\\n",
       "0               Best Chips out there!!!   \n",
       "1                      Good Bold Coffee   \n",
       "2                           great deal.   \n",
       "3  Great product...lousey bottle design   \n",
       "4       The Best Hot Sauce in the World   \n",
       "\n",
       "                                                Text  \n",
       "0  I have tried Herrs, UTZ, wise, pringles, lays ...  \n",
       "1  I've been drinking Green Mountain's Dark Magic...  \n",
       "2  Halloween is over but, I sent a bag to my daug...  \n",
       "3  I love the product.  But, the bottle design is...  \n",
       "4  I don't know if it's the cactus or the tequila...  "
      ]
     },
     "execution_count": 14,
     "metadata": {},
     "output_type": "execute_result"
    }
   ],
   "source": [
    "final.head()"
   ]
  },
  {
   "cell_type": "markdown",
   "metadata": {},
   "source": [
    "## Data Preprocessing "
   ]
  },
  {
   "cell_type": "code",
   "execution_count": 17,
   "metadata": {},
   "outputs": [],
   "source": [
    "import re\n",
    "\n",
    "snow = nltk.stem.SnowballStemmer('english')\n",
    "\n",
    "def cleanhtml(sentence):\n",
    "    cleanr = re.compile('<.*?>')\n",
    "    cleantext = re.sub(cleanr, ' ', sentence)\n",
    "    return cleantext\n",
    "    \n",
    "def cleanpunc(sentence):\n",
    "    sentence = sentence.lower()\n",
    "    cleaned = re.sub('[^A-Za-z0-9]+', '', sentence)\n",
    "    return cleaned"
   ]
  },
  {
   "cell_type": "code",
   "execution_count": 20,
   "metadata": {},
   "outputs": [],
   "source": [
    "stop = set(stopwords.words('english'))"
   ]
  },
  {
   "cell_type": "code",
   "execution_count": 21,
   "metadata": {},
   "outputs": [
    {
     "name": "stdout",
     "output_type": "stream",
     "text": [
      "{'because', \"haven't\", 'ours', 'or', 'until', 'any', 'not', 'weren', 'ourselves', 'few', 'had', \"wasn't\", 'such', 'yourself', 'after', \"you've\", \"don't\", 'below', 'those', 'mustn', 'up', 'm', 'same', 'herself', 'ma', 'off', 'is', 'for', 'them', 'has', \"didn't\", 'under', 'shouldn', 'should', \"aren't\", 'wouldn', \"hasn't\", 'if', \"needn't\", 'haven', 'didn', 'which', 'so', 'into', 'they', 'each', \"you'll\", 'where', 'mightn', 'was', \"won't\", 'out', 'having', 'shan', 'nor', 'on', 'only', 'once', \"that'll\", 'hers', 'a', 'these', 'theirs', 'i', 'my', 'by', 'then', 'as', 'me', \"wouldn't\", 'over', 'isn', 'does', 'all', 'what', 'been', 'itself', \"couldn't\", 'who', \"doesn't\", 'our', \"should've\", 'his', 'd', 'do', 'too', 'were', \"you'd\", 'couldn', 'of', 'o', 's', 'are', 'during', 'in', \"you're\", 'most', 'whom', 'hadn', \"she's\", 'more', 'he', 'the', 'needn', 'there', 'some', 'doesn', 'will', 'their', 'hasn', 'we', 'further', 'this', 'no', \"shan't\", 'll', \"hadn't\", 'between', 'and', 'your', 'yourselves', 'can', 'won', 'now', 'it', 'her', 'to', 'just', 'be', 'against', 'from', 'when', 'don', 'himself', 'down', 'being', 're', 'ain', 'through', 'themselves', 'before', 'here', 'aren', 'why', 'other', 'very', \"shouldn't\", 'that', 'have', 'about', 't', 'doing', 'own', 'how', \"weren't\", 'at', 'both', 'am', 'than', 'you', \"it's\", 'she', 'with', 'him', 've', 'again', 'but', \"mightn't\", 'y', 'an', 'while', 'myself', 'wasn', 'did', \"isn't\", \"mustn't\", 'yours', 'above', 'its'}\n"
     ]
    }
   ],
   "source": [
    "print(stop)"
   ]
  },
  {
   "cell_type": "code",
   "execution_count": 23,
   "metadata": {},
   "outputs": [],
   "source": [
    "temp = []\n",
    "str1 = ''\n",
    "for sentence in final['Text'].values:\n",
    "    words = []\n",
    "    sentence = cleanhtml(sentence)\n",
    "    for word in sentence.split():\n",
    "        word = cleanpunc(word)\n",
    "        if ((word.isalpha()) and (len(word) > 2)):\n",
    "            if word not in stop:\n",
    "                s = snow.stem(word).encode('utf8')\n",
    "                words.append(s)\n",
    "            else:\n",
    "                continue\n",
    "        else:\n",
    "            continue\n",
    "    str1 = b\" \".join(words)\n",
    "    temp.append(str1)"
   ]
  },
  {
   "cell_type": "code",
   "execution_count": 24,
   "metadata": {},
   "outputs": [],
   "source": [
    "final['CleanedText'] = temp"
   ]
  },
  {
   "cell_type": "code",
   "execution_count": 25,
   "metadata": {},
   "outputs": [],
   "source": [
    "final['CleanedText'] = final['CleanedText'].str.decode('utf-8')"
   ]
  },
  {
   "cell_type": "code",
   "execution_count": 27,
   "metadata": {},
   "outputs": [
    {
     "data": {
      "text/html": [
       "<div>\n",
       "<style scoped>\n",
       "    .dataframe tbody tr th:only-of-type {\n",
       "        vertical-align: middle;\n",
       "    }\n",
       "\n",
       "    .dataframe tbody tr th {\n",
       "        vertical-align: top;\n",
       "    }\n",
       "\n",
       "    .dataframe thead th {\n",
       "        text-align: right;\n",
       "    }\n",
       "</style>\n",
       "<table border=\"1\" class=\"dataframe\">\n",
       "  <thead>\n",
       "    <tr style=\"text-align: right;\">\n",
       "      <th></th>\n",
       "      <th>Id</th>\n",
       "      <th>ProductId</th>\n",
       "      <th>UserId</th>\n",
       "      <th>ProfileName</th>\n",
       "      <th>HelpfulnessNumerator</th>\n",
       "      <th>HelpfulnessDenominator</th>\n",
       "      <th>Score</th>\n",
       "      <th>Time</th>\n",
       "      <th>Summary</th>\n",
       "      <th>Text</th>\n",
       "      <th>CleanedText</th>\n",
       "    </tr>\n",
       "  </thead>\n",
       "  <tbody>\n",
       "    <tr>\n",
       "      <th>0</th>\n",
       "      <td>532</td>\n",
       "      <td>B000G6RYNE</td>\n",
       "      <td>A15U6JW86FB9OV</td>\n",
       "      <td>P. Bangera</td>\n",
       "      <td>3</td>\n",
       "      <td>3</td>\n",
       "      <td>positive</td>\n",
       "      <td>1214611200</td>\n",
       "      <td>Best Chips out there!!!</td>\n",
       "      <td>I have tried Herrs, UTZ, wise, pringles, lays ...</td>\n",
       "      <td>tri herr utz wise pringl lay etcbut kettl tast...</td>\n",
       "    </tr>\n",
       "    <tr>\n",
       "      <th>1</th>\n",
       "      <td>2392</td>\n",
       "      <td>B0089SPDUW</td>\n",
       "      <td>A1ACXZOUVYS3T5</td>\n",
       "      <td>Brian Dumont</td>\n",
       "      <td>2</td>\n",
       "      <td>2</td>\n",
       "      <td>positive</td>\n",
       "      <td>1342569600</td>\n",
       "      <td>Good Bold Coffee</td>\n",
       "      <td>I've been drinking Green Mountain's Dark Magic...</td>\n",
       "      <td>ive drink green mountain dark magic realli enj...</td>\n",
       "    </tr>\n",
       "    <tr>\n",
       "      <th>2</th>\n",
       "      <td>60</td>\n",
       "      <td>B004N5KULM</td>\n",
       "      <td>A2QOGOXPOVKAJG</td>\n",
       "      <td>mimimc</td>\n",
       "      <td>0</td>\n",
       "      <td>0</td>\n",
       "      <td>positive</td>\n",
       "      <td>1320105600</td>\n",
       "      <td>great deal.</td>\n",
       "      <td>Halloween is over but, I sent a bag to my daug...</td>\n",
       "      <td>halloween sent bag daughter class share chocol...</td>\n",
       "    </tr>\n",
       "    <tr>\n",
       "      <th>3</th>\n",
       "      <td>3957</td>\n",
       "      <td>B005HO0ARM</td>\n",
       "      <td>A113HJFCRWR0SQ</td>\n",
       "      <td>J. A., Church \"Keturah Joan\"</td>\n",
       "      <td>8</td>\n",
       "      <td>11</td>\n",
       "      <td>negative</td>\n",
       "      <td>1324771200</td>\n",
       "      <td>Great product...lousey bottle design</td>\n",
       "      <td>I love the product.  But, the bottle design is...</td>\n",
       "      <td>love product bottl design terribl order get la...</td>\n",
       "    </tr>\n",
       "    <tr>\n",
       "      <th>4</th>\n",
       "      <td>11</td>\n",
       "      <td>B0001PB9FE</td>\n",
       "      <td>A3HDKO7OW0QNK4</td>\n",
       "      <td>Canadian Fan</td>\n",
       "      <td>1</td>\n",
       "      <td>1</td>\n",
       "      <td>positive</td>\n",
       "      <td>1107820800</td>\n",
       "      <td>The Best Hot Sauce in the World</td>\n",
       "      <td>I don't know if it's the cactus or the tequila...</td>\n",
       "      <td>dont know cactus tequila uniqu combin ingredi ...</td>\n",
       "    </tr>\n",
       "  </tbody>\n",
       "</table>\n",
       "</div>"
      ],
      "text/plain": [
       "     Id   ProductId          UserId                   ProfileName  \\\n",
       "0   532  B000G6RYNE  A15U6JW86FB9OV                    P. Bangera   \n",
       "1  2392  B0089SPDUW  A1ACXZOUVYS3T5                  Brian Dumont   \n",
       "2    60  B004N5KULM  A2QOGOXPOVKAJG                        mimimc   \n",
       "3  3957  B005HO0ARM  A113HJFCRWR0SQ  J. A., Church \"Keturah Joan\"   \n",
       "4    11  B0001PB9FE  A3HDKO7OW0QNK4                  Canadian Fan   \n",
       "\n",
       "   HelpfulnessNumerator  HelpfulnessDenominator     Score        Time  \\\n",
       "0                     3                       3  positive  1214611200   \n",
       "1                     2                       2  positive  1342569600   \n",
       "2                     0                       0  positive  1320105600   \n",
       "3                     8                      11  negative  1324771200   \n",
       "4                     1                       1  positive  1107820800   \n",
       "\n",
       "                                Summary  \\\n",
       "0               Best Chips out there!!!   \n",
       "1                      Good Bold Coffee   \n",
       "2                           great deal.   \n",
       "3  Great product...lousey bottle design   \n",
       "4       The Best Hot Sauce in the World   \n",
       "\n",
       "                                                Text  \\\n",
       "0  I have tried Herrs, UTZ, wise, pringles, lays ...   \n",
       "1  I've been drinking Green Mountain's Dark Magic...   \n",
       "2  Halloween is over but, I sent a bag to my daug...   \n",
       "3  I love the product.  But, the bottle design is...   \n",
       "4  I don't know if it's the cactus or the tequila...   \n",
       "\n",
       "                                         CleanedText  \n",
       "0  tri herr utz wise pringl lay etcbut kettl tast...  \n",
       "1  ive drink green mountain dark magic realli enj...  \n",
       "2  halloween sent bag daughter class share chocol...  \n",
       "3  love product bottl design terribl order get la...  \n",
       "4  dont know cactus tequila uniqu combin ingredi ...  "
      ]
     },
     "execution_count": 27,
     "metadata": {},
     "output_type": "execute_result"
    }
   ],
   "source": [
    "final.head()"
   ]
  },
  {
   "cell_type": "code",
   "execution_count": 28,
   "metadata": {},
   "outputs": [],
   "source": [
    "final.to_pickle('data/cleaned_file.pkl')"
   ]
  },
  {
   "cell_type": "code",
   "execution_count": 31,
   "metadata": {},
   "outputs": [],
   "source": [
    "final = pd.read_pickle('data/cleaned_file.pkl')"
   ]
  },
  {
   "cell_type": "code",
   "execution_count": 32,
   "metadata": {},
   "outputs": [
    {
     "data": {
      "text/plain": [
       "negative    2000\n",
       "positive    2000\n",
       "Name: Score, dtype: int64"
      ]
     },
     "execution_count": 32,
     "metadata": {},
     "output_type": "execute_result"
    }
   ],
   "source": [
    "final['Score'].value_counts()"
   ]
  },
  {
   "cell_type": "markdown",
   "metadata": {},
   "source": [
    "## Bag of Words "
   ]
  },
  {
   "cell_type": "code",
   "execution_count": 33,
   "metadata": {},
   "outputs": [],
   "source": [
    "count_vect = CountVectorizer() #in scikit-learn\n",
    "final_counts = count_vect.fit_transform(final['CleanedText'].values)"
   ]
  },
  {
   "cell_type": "code",
   "execution_count": 34,
   "metadata": {},
   "outputs": [
    {
     "data": {
      "text/plain": [
       "(4000, 9693)"
      ]
     },
     "execution_count": 34,
     "metadata": {},
     "output_type": "execute_result"
    }
   ],
   "source": [
    "final_counts.get_shape()"
   ]
  },
  {
   "cell_type": "code",
   "execution_count": 35,
   "metadata": {},
   "outputs": [],
   "source": [
    "bow_vectors = final_counts.toarray()"
   ]
  },
  {
   "cell_type": "code",
   "execution_count": 36,
   "metadata": {},
   "outputs": [
    {
     "name": "stdout",
     "output_type": "stream",
     "text": [
      "(4000, 9693)\n"
     ]
    }
   ],
   "source": [
    "from sklearn.preprocessing import StandardScaler\n",
    "standardized_data = StandardScaler().fit_transform(bow_vectors)\n",
    "print(standardized_data.shape)"
   ]
  },
  {
   "cell_type": "markdown",
   "metadata": {},
   "source": [
    "## t-sne using bow "
   ]
  },
  {
   "cell_type": "code",
   "execution_count": 37,
   "metadata": {},
   "outputs": [
    {
     "data": {
      "text/plain": [
       "array([[  8.793725  , -18.786726  ],\n",
       "       [-10.602741  ,   6.34749   ],\n",
       "       [ -1.7333976 ,  27.503838  ],\n",
       "       ...,\n",
       "       [-58.938927  ,  16.378002  ],\n",
       "       [  6.979041  ,  -8.029508  ],\n",
       "       [ -0.20654161,  25.762278  ]], dtype=float32)"
      ]
     },
     "execution_count": 37,
     "metadata": {},
     "output_type": "execute_result"
    }
   ],
   "source": [
    "from sklearn.manifold import TSNE\n",
    "model = TSNE(n_components=2, random_state=0, perplexity = 50)\n",
    "# configuring the parameteres\n",
    "# the number of components = 2\n",
    "# default perplexity = 30\n",
    "# default learning rate = 200\n",
    "# default Maximum number of iterations for the optimization = 1000\n",
    "\n",
    "tsne_data = model.fit_transform(standardized_data)\n",
    "tsne_data"
   ]
  },
  {
   "cell_type": "code",
   "execution_count": 39,
   "metadata": {},
   "outputs": [
    {
     "data": {
      "text/plain": [
       "array([[8.79372501373291, -18.786725997924805, 'positive'],\n",
       "       [-10.602741241455078, 6.347489833831787, 'positive'],\n",
       "       [-1.7333976030349731, 27.50383758544922, 'positive'],\n",
       "       ...,\n",
       "       [-58.938926696777344, 16.378002166748047, 'negative'],\n",
       "       [6.97904109954834, -8.029507637023926, 'positive'],\n",
       "       [-0.20654161274433136, 25.762277603149414, 'negative']],\n",
       "      dtype=object)"
      ]
     },
     "execution_count": 39,
     "metadata": {},
     "output_type": "execute_result"
    }
   ],
   "source": [
    "# combining target value with new features.\n",
    "tsne_data = np.vstack((tsne_data.T, final['Score'])).T\n",
    "tsne_data"
   ]
  },
  {
   "cell_type": "code",
   "execution_count": 40,
   "metadata": {},
   "outputs": [
    {
     "name": "stdout",
     "output_type": "stream",
     "text": [
      "          Dim1      Dim2     Score\n",
      "0      8.79373  -18.7867  positive\n",
      "1     -10.6027   6.34749  positive\n",
      "2      -1.7334   27.5038  positive\n",
      "3     -11.5101   32.3397  negative\n",
      "4      15.0765  -25.3971  positive\n",
      "5     -15.8739  -7.88193  positive\n",
      "6      5.93846   19.5842  positive\n",
      "7     -13.3704  -24.2429  negative\n",
      "8     -1.93364  -1.54019  positive\n",
      "9     -7.18839   13.7554  negative\n",
      "10    -69.9181  -51.6046  negative\n",
      "11     7.41711   9.43168  negative\n",
      "12     -5.6621  -24.3939  negative\n",
      "13    -1.80973  -2.57827  positive\n",
      "14    0.666766   17.5974  negative\n",
      "15     5.66298   4.85422  positive\n",
      "16   -0.858519  -19.4968  negative\n",
      "17     25.0567  -25.7081  negative\n",
      "18    -4.69926    34.951  negative\n",
      "19    -3.74706  -2.01527  positive\n",
      "20      8.8646   7.42962  positive\n",
      "21     18.1497  -6.21745  negative\n",
      "22    -17.8664  -14.0656  positive\n",
      "23    -70.1511  -30.6993  positive\n",
      "24    -6.19668   1.55901  positive\n",
      "25    -7.26365   9.68218  positive\n",
      "26    -13.4719  -18.9382  positive\n",
      "27     17.5779  -21.4336  negative\n",
      "28     9.83849   30.8042  negative\n",
      "29     21.8952 -0.751643  positive\n",
      "...        ...       ...       ...\n",
      "3970   7.75313  -15.1578  positive\n",
      "3971   14.4745  -8.16654  positive\n",
      "3972    7.8748   11.9587  positive\n",
      "3973  -50.4462   35.0248  negative\n",
      "3974 -0.633765   84.8974  positive\n",
      "3975  0.874715   11.7755  positive\n",
      "3976   19.1889  0.789925  positive\n",
      "3977  -12.4907  -10.4041  positive\n",
      "3978   36.5413    69.572  negative\n",
      "3979    5.4702   12.8487  negative\n",
      "3980   9.44176   7.32966  positive\n",
      "3981   3.95378  -4.11754  negative\n",
      "3982   61.9492   57.4192  negative\n",
      "3983   1.17885 -0.442238  positive\n",
      "3984   5.75724  -1.34276  negative\n",
      "3985   20.9102 -0.507659  positive\n",
      "3986   12.7469  -34.0764  negative\n",
      "3987  -3.18168   -2.7079  positive\n",
      "3988   -5.5899  -5.04349  positive\n",
      "3989  -2.28107   4.89618  negative\n",
      "3990   -9.5549    14.201  positive\n",
      "3991  -52.8499  -50.4789  negative\n",
      "3992   7.48289   11.1046  positive\n",
      "3993   11.4511   16.4146  negative\n",
      "3994   1.24754 -0.358754  positive\n",
      "3995    9.0565  -4.27403  positive\n",
      "3996  -13.3349   14.8038  positive\n",
      "3997  -58.9389    16.378  negative\n",
      "3998   6.97904  -8.02951  positive\n",
      "3999 -0.206542   25.7623  negative\n",
      "\n",
      "[4000 rows x 3 columns]\n"
     ]
    },
    {
     "data": {
      "image/png": "[encoded data removed]",
      "text/plain": [
       "<Figure size 511.75x432 with 1 Axes>"
      ]
     },
     "metadata": {
      "needs_background": "light"
     },
     "output_type": "display_data"
    }
   ],
   "source": [
    "# creating a new data frame which help us in plotting the result data\n",
    "\n",
    "tsne_df = pd.DataFrame(data = tsne_data, columns = (\"Dim1\", \"Dim2\", \"Score\"))\n",
    "print(tsne_df)\n",
    "\n",
    "# Ploting the result of tsne\n",
    "sns.FacetGrid(tsne_df, hue=\"Score\", size=6).map(plt.scatter, 'Dim1', 'Dim2').add_legend()\n",
    "plt.show()"
   ]
  },
  {
   "cell_type": "markdown",
   "metadata": {},
   "source": [
    "## TF-IDF "
   ]
  },
  {
   "cell_type": "code",
   "execution_count": 38,
   "metadata": {},
   "outputs": [],
   "source": [
    "tf_idf_vect = TfidfVectorizer()\n",
    "final_tf_idf = tf_idf_vect.fit_transform(final['CleanedText'].values)"
   ]
  },
  {
   "cell_type": "code",
   "execution_count": 41,
   "metadata": {},
   "outputs": [
    {
     "data": {
      "text/plain": [
       "(4000, 9693)"
      ]
     },
     "execution_count": 41,
     "metadata": {},
     "output_type": "execute_result"
    }
   ],
   "source": [
    "final_tf_idf.shape"
   ]
  },
  {
   "cell_type": "code",
   "execution_count": 42,
   "metadata": {},
   "outputs": [],
   "source": [
    "tfidf_vectors = final_tf_idf.toarray()"
   ]
  },
  {
   "cell_type": "code",
   "execution_count": 43,
   "metadata": {},
   "outputs": [
    {
     "name": "stdout",
     "output_type": "stream",
     "text": [
      "(4000, 9693)\n"
     ]
    }
   ],
   "source": [
    "standardized_data = StandardScaler().fit_transform(tfidf_vectors)\n",
    "print(standardized_data.shape)"
   ]
  },
  {
   "cell_type": "markdown",
   "metadata": {},
   "source": [
    "## T-SNE using TF-IDF "
   ]
  },
  {
   "cell_type": "code",
   "execution_count": 44,
   "metadata": {},
   "outputs": [],
   "source": [
    "model = TSNE(n_components=2, random_state=0,perplexity=50)\n",
    "# configuring the parameteres\n",
    "# the number of components = 2\n",
    "# default perplexity = 30\n",
    "# default learning rate = 200\n",
    "# default Maximum number of itearations for the optimization = 1000\n",
    "\n",
    "tsne_data = model.fit_transform(standardized_data)"
   ]
  },
  {
   "cell_type": "code",
   "execution_count": 45,
   "metadata": {},
   "outputs": [
    {
     "data": {
      "image/png": "[encoded data removed]",
      "text/plain": [
       "<Figure size 511.75x432 with 1 Axes>"
      ]
     },
     "metadata": {
      "needs_background": "light"
     },
     "output_type": "display_data"
    }
   ],
   "source": [
    "# creating a new data frame which help us in ploting the result data\n",
    "tsne_data = np.vstack((tsne_data.T, final['Score'])).T\n",
    "tsne_df = pd.DataFrame(data=tsne_data, columns=(\"dim1\", \"dim2\", \"Score\"))\n",
    "\n",
    "# Ploting the result of tsne\n",
    "sns.FacetGrid(tsne_df, hue=\"Score\", size=6).map(plt.scatter, 'dim1', 'dim2').add_legend()\n",
    "plt.show()"
   ]
  },
  {
   "cell_type": "markdown",
   "metadata": {},
   "source": [
    "## Word2Vec "
   ]
  },
  {
   "cell_type": "code",
   "execution_count": 46,
   "metadata": {},
   "outputs": [],
   "source": [
    "list_of_sentence = []\n",
    "for sentence in final['Text'].values:\n",
    "    words = []\n",
    "    sentence = cleanhtml(sentence)\n",
    "    for word in sentence.split():\n",
    "        word = cleanpunc(word)\n",
    "        if ((word.isalpha()) and (len(word) > 2)):\n",
    "            if word not in stop:\n",
    "                words.append(word)\n",
    "            else:\n",
    "                continue\n",
    "        else:\n",
    "            continue\n",
    "    list_of_sentence.append(words)"
   ]
  },
  {
   "cell_type": "code",
   "execution_count": 48,
   "metadata": {},
   "outputs": [],
   "source": [
    "import gensim\n",
    "w2v_model = gensim.models.Word2Vec(list_of_sentence, min_count = 5, size = 50, workers = 4)"
   ]
  },
  {
   "cell_type": "code",
   "execution_count": 49,
   "metadata": {},
   "outputs": [],
   "source": [
    "w2v = w2v_model[w2v_model.wv.vocab]"
   ]
  },
  {
   "cell_type": "code",
   "execution_count": 50,
   "metadata": {},
   "outputs": [
    {
     "data": {
      "text/plain": [
       "(3605, 50)"
      ]
     },
     "execution_count": 50,
     "metadata": {},
     "output_type": "execute_result"
    }
   ],
   "source": [
    "w2v.shape"
   ]
  },
  {
   "cell_type": "markdown",
   "metadata": {},
   "source": [
    "## Avg Word2Vec"
   ]
  },
  {
   "cell_type": "code",
   "execution_count": 52,
   "metadata": {},
   "outputs": [],
   "source": [
    "sentence_vectors = []\n",
    "for sentence in list_of_sentence:\n",
    "    sentence_vec = np.zeros(50)\n",
    "    count_words = 0\n",
    "    for word in sentence:\n",
    "        try:\n",
    "            vector = w2v_model.wv[word]\n",
    "            sentence_vec += vector\n",
    "            count_words += 1\n",
    "        except:\n",
    "            pass\n",
    "    sentence_vec /= count_words\n",
    "    sentence_vectors.append(sentence_vec)"
   ]
  },
  {
   "cell_type": "markdown",
   "metadata": {},
   "source": [
    "## T-SNE using Avg Word2Vec"
   ]
  },
  {
   "cell_type": "code",
   "execution_count": 54,
   "metadata": {},
   "outputs": [
    {
     "data": {
      "image/png": "[encoded data removed]",
      "text/plain": [
       "<Figure size 511.75x432 with 1 Axes>"
      ]
     },
     "metadata": {
      "needs_background": "light"
     },
     "output_type": "display_data"
    }
   ],
   "source": [
    "model = TSNE(n_components=2, random_state=0,perplexity=50)\n",
    "\n",
    "tsne_data = model.fit_transform(sentence_vectors)\n",
    "# creating a new data frame which help us in ploting the result data\n",
    "tsne_data = np.vstack((tsne_data.T, final['Score'])).T\n",
    "tsne_df = pd.DataFrame(data=tsne_data, columns=(\"dim1\", \"dim2\", \"Score\"))\n",
    "\n",
    "# Ploting the result of tsne\n",
    "sns.FacetGrid(tsne_df, hue=\"Score\", size=6).map(plt.scatter, 'dim1', 'dim2').add_legend()\n",
    "\n",
    "plt.show()"
   ]
  },
  {
   "cell_type": "markdown",
   "metadata": {},
   "source": [
    "## Word2Vec using TF-IDF "
   ]
  },
  {
   "cell_type": "code",
   "execution_count": 57,
   "metadata": {},
   "outputs": [],
   "source": [
    "tfidf_vectors = []\n",
    "row = 0\n",
    "for sentence in list_of_sentence:\n",
    "    sentence_vec = np.zeros(50)\n",
    "    weight_sum = 0\n",
    "    for word in sentence:\n",
    "        try:\n",
    "            vector = w2v_model.wv[word]\n",
    "            tf_idf = final_tf_idf[row, tfidf_feat,index(word)]\n",
    "            sentence_vec += (vector*tf_idf)\n",
    "            weight_sum += tf_idf\n",
    "        except:\n",
    "            pass\n",
    "    sentence_vec /= weight_sum\n",
    "    tfidf_vectors.append(sentence_vec)\n",
    "    row += 1"
   ]
  },
  {
   "cell_type": "markdown",
   "metadata": {},
   "source": [
    "## T-SNE using TF-IDF W2V "
   ]
  },
  {
   "cell_type": "code",
   "execution_count": 58,
   "metadata": {},
   "outputs": [],
   "source": [
    "# To replace nan with 0 and inf with large finite number\n",
    "tfidf_sent_vectors = np.nan_to_num(tfidf_vectors)"
   ]
  },
  {
   "cell_type": "code",
   "execution_count": 59,
   "metadata": {},
   "outputs": [
    {
     "data": {
      "image/png": "[encoded data removed]",
      "text/plain": [
       "<Figure size 511.75x432 with 1 Axes>"
      ]
     },
     "metadata": {
      "needs_background": "light"
     },
     "output_type": "display_data"
    }
   ],
   "source": [
    "model = TSNE(n_components=2, random_state=0,perplexity=50)\n",
    "\n",
    "tsne_data = model.fit_transform(tfidf_sent_vectors)\n",
    "# creating a new data frame which help us in ploting the result data\n",
    "tsne_data = np.vstack((tsne_data.T, final['Score'])).T\n",
    "tsne_df = pd.DataFrame(data=tsne_data, columns=(\"dim1\", \"dim2\", \"Score\"))\n",
    "\n",
    "# Ploting the result of tsne\n",
    "sns.FacetGrid(tsne_df, hue=\"Score\", size=6).map(plt.scatter, 'dim1', 'dim2').add_legend()\n",
    "\n",
    "plt.show()"
   ]
  },
  {
   "cell_type": "markdown",
   "metadata": {},
   "source": [
    "## Conclusion"
   ]
  },
  {
   "cell_type": "markdown",
   "metadata": {},
   "source": [
    "As we can see that none of the t-sne plots can able to seprate out +ve and -ve reviews using bow, tf-idf, avg w2v, tf-idf w2v techniques. So we will try some other alternatives to seprate +ve and -ve reviews."
   ]
  }
 ],
 "metadata": {
  "kernelspec": {
   "display_name": "Python 3",
   "language": "python",
   "name": "python3"
  },
  "language_info": {
   "codemirror_mode": {
    "name": "ipython",
    "version": 3
   },
   "file_extension": ".py",
   "mimetype": "text/x-python",
   "name": "python",
   "nbconvert_exporter": "python",
   "pygments_lexer": "ipython3",
   "version": "3.7.3"
  }
 },
 "nbformat": 4,
 "nbformat_minor": 2
}
